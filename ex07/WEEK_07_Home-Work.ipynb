{
 "cells": [
  {
   "cell_type": "markdown",
   "metadata": {},
   "source": [
    "# Learning Scikit-learn: Machine Learning in Python"
   ]
  },
  {
   "cell_type": "markdown",
   "metadata": {},
   "source": [
    "## WEEK 7: Home Work\n",
    "\n",
    "### Student N ame / ID: _____"
   ]
  },
  {
   "cell_type": "markdown",
   "metadata": {},
   "source": [
    "### Problem 1: Answer the following questions:"
   ]
  },
  {
   "cell_type": "markdown",
   "metadata": {},
   "source": [
    "Q1: Which are the steps of the k-means algorithm?"
   ]
  },
  {
   "cell_type": "markdown",
   "metadata": {},
   "source": [
    "*** your answer here ***\n",
    "\n",
    "Step 1 - ....\n",
    "\n",
    "Step 2 - ....\n",
    "\n",
    "...."
   ]
  },
  {
   "cell_type": "markdown",
   "metadata": {},
   "source": [
    "Q2: What is the criterion (objective function) to be minimized in the k-means algorithm? (give the formula)."
   ]
  },
  {
   "cell_type": "markdown",
   "metadata": {},
   "source": [
    "*** your answer here ***"
   ]
  },
  {
   "cell_type": "markdown",
   "metadata": {},
   "source": [
    "### Problem 2: Compare k-means algorithm with other unsupervised clustering algorithms."
   ]
  },
  {
   "cell_type": "markdown",
   "metadata": {},
   "source": [
    "Start by importing numpy, scikit-learn, and pyplot, the Python libraries you will be using."
   ]
  },
  {
   "cell_type": "code",
   "execution_count": null,
   "metadata": {
    "collapsed": false
   },
   "outputs": [],
   "source": [
    "%matplotlib inline\n",
    "import sklearn\n",
    "import sklearn.datasets as ds\n",
    "import sklearn.cluster as clu\n",
    "import numpy as np\n",
    "import matplotlib.pyplot as plt\n",
    "from itertools import permutations\n",
    "\n",
    "import seaborn as sns\n",
    "sns.set()"
   ]
  },
  {
   "cell_type": "markdown",
   "metadata": {},
   "source": [
    "First, let's generate a random dataset with tree clusters:"
   ]
  },
  {
   "cell_type": "code",
   "execution_count": null,
   "metadata": {
    "collapsed": false
   },
   "outputs": [],
   "source": [
    "X, y = ds.make_blobs (n_samples=200, n_features=2, centers=3)"
   ]
  },
  {
   "cell_type": "markdown",
   "metadata": {},
   "source": [
    "Here are two helper functions to relabel and display the results of the clustering algorithms:"
   ]
  },
  {
   "cell_type": "code",
   "execution_count": null,
   "metadata": {
    "collapsed": false
   },
   "outputs": [],
   "source": [
    "def relabel(cl):\n",
    "    \"\"\"Relabel a clustering with three clusters to match the original classes.\"\"\"\n",
    "    if np.max(cl) != 2:\n",
    "        return cl\n",
    "    perms = np.array(list(permutations((0,1,2))))\n",
    "    i = np.argmin([np.sum(np.abs(perm[cl] - y)) for perm in perms])\n",
    "    p = perms[i]\n",
    "    return p[cl]\n",
    "\n",
    "def display_clustering(labels, title):\n",
    "    \"\"\"Plot the data points with the cluster colors.\"\"\"\n",
    "    # We relabel the classes when there are 3 clusters.\n",
    "    labels = relabel(labels)\n",
    "    # Display the points with the true labels on the left,\n",
    "    # and with the clustring labels on the right.\n",
    "    for i, (c, title) in enumerate(zip([y, labels], [\"True labels\", title])):\n",
    "        plt.subplot(121 + i)\n",
    "        plt.scatter(X[:,0], X[:,1], c=c, s=30, linewidths=0, cmap=plt.cm.rainbow)\n",
    "        plt.xticks([]); plt.yticks([])\n",
    "        plt.title(title)"
   ]
  },
  {
   "cell_type": "markdown",
   "metadata": {},
   "source": [
    "Let's first apply k-means clutering on the generated data. Initialize a *KMeans* class variable named ```alg``` without specifying the number of clusters. The last command will display the clustering result."
   ]
  },
  {
   "cell_type": "code",
   "execution_count": null,
   "metadata": {
    "collapsed": false
   },
   "outputs": [],
   "source": [
    "### your code here ###\n",
    "\n",
    "\n",
    "\n",
    "display_clustering(alg.labels_, \"KMeans\")"
   ]
  },
  {
   "cell_type": "markdown",
   "metadata": {},
   "source": [
    "As you can see, *KMeans* cannot automatically find out how many clusters are there, so we need to let the algorithm know. Repeat the experiment above, but this time set the number\n",
    "of clusters to 3."
   ]
  },
  {
   "cell_type": "code",
   "execution_count": null,
   "metadata": {
    "collapsed": false
   },
   "outputs": [],
   "source": [
    "### your code here ###\n",
    "\n",
    "\n",
    "display_clustering(alg.labels_, \"KMeans(3)\")"
   ]
  },
  {
   "cell_type": "markdown",
   "metadata": {},
   "source": [
    "When we set the correct number of clusters, *KMeans* clusters data well.\n",
    "\n",
    "\n",
    "Now, let's try some other clustering algorithms which are available from **scikit-learn** package. They are:\n",
    "1. *Spectral Clustering*\n",
    "2. *Agglomerative Clustering*\n",
    "3. *Mean Shift*\n",
    "4. *Affinity Propagation*\n",
    "5. *DBSCAN*\n",
    "\n",
    "They can be initialized in the same way as *KMeans* (the class names are the same as in the list above, just without the \"space\" between words).\n",
    "\n",
    "Initialize and cluster data with *Spectral Clustering*. Set the number of clusters to 3."
   ]
  },
  {
   "cell_type": "code",
   "execution_count": null,
   "metadata": {
    "collapsed": false
   },
   "outputs": [],
   "source": [
    "### your code here ###\n",
    "\n",
    "\n",
    "display_clustering(alg.labels_, \"SpectralClustering(3)\")"
   ]
  },
  {
   "cell_type": "markdown",
   "metadata": {
    "collapsed": false
   },
   "source": [
    "Initialize and cluster data with *Agglomerative Clustering*. Set the number of clusters to 3."
   ]
  },
  {
   "cell_type": "code",
   "execution_count": null,
   "metadata": {
    "collapsed": false
   },
   "outputs": [],
   "source": [
    "### your code here ###\n",
    "\n",
    "\n",
    "display_clustering(alg.labels_, \"AgglomerativeClustering(3)\")"
   ]
  },
  {
   "cell_type": "markdown",
   "metadata": {},
   "source": [
    "Initialize and cluster data with *Mean Shift*. This algorithm will try to find out the correct number of clusters automatically, so there is no need to specify the number of clusters."
   ]
  },
  {
   "cell_type": "code",
   "execution_count": null,
   "metadata": {
    "collapsed": false
   },
   "outputs": [],
   "source": [
    "### your code here ###\n",
    "\n",
    "\n",
    "display_clustering(alg.labels_, \"MeanShift\")"
   ]
  },
  {
   "cell_type": "markdown",
   "metadata": {},
   "source": [
    "Initialize and cluster data with *Affinity Propagation*. No need to set the number of clusters."
   ]
  },
  {
   "cell_type": "code",
   "execution_count": null,
   "metadata": {
    "collapsed": false
   },
   "outputs": [],
   "source": [
    "### your code here ###\n",
    "\n",
    "\n",
    "display_clustering(alg.labels_, \"AffinityPropagation\")"
   ]
  },
  {
   "cell_type": "markdown",
   "metadata": {},
   "source": [
    "Initialize and cluster data with *DBSCAN*. No need to set the number of clusters."
   ]
  },
  {
   "cell_type": "code",
   "execution_count": null,
   "metadata": {
    "collapsed": false
   },
   "outputs": [],
   "source": [
    "### your code here ###\n",
    "\n",
    "\n",
    "display_clustering(alg.labels_, \"DBSCAN\")"
   ]
  },
  {
   "cell_type": "markdown",
   "metadata": {},
   "source": [
    "If everything went well, you can see that the first two algorithms - *KMeans* and *Agglomerative Clustering*, required the number of clusters as input. The next two - *Mean Shift* and *Affinity Propagation* did not, but they (in some cases) are able to find the right number: 3. \n",
    "The last one failed at finding the correct number of clusters (this is called **overclustering** - too many clusters have been found).\n",
    "\n",
    "NOTE: Sometimes, when generated data clusters overlap, finding correct number of clusters may fail!"
   ]
  },
  {
   "cell_type": "markdown",
   "metadata": {
    "collapsed": true
   },
   "source": [
    "---"
   ]
  }
 ],
 "metadata": {
  "kernelspec": {
   "display_name": "Python 3",
   "language": "python",
   "name": "python3"
  },
  "language_info": {
   "codemirror_mode": {
    "name": "ipython",
    "version": 3
   },
   "file_extension": ".py",
   "mimetype": "text/x-python",
   "name": "python",
   "nbconvert_exporter": "python",
   "pygments_lexer": "ipython3",
   "version": "3.5.1"
  }
 },
 "nbformat": 4,
 "nbformat_minor": 0
}
